{
 "cells": [
  {
   "cell_type": "markdown",
   "metadata": {},
   "source": [
    "## Predicting Insurance Premiums"
   ]
  },
  {
   "cell_type": "code",
   "execution_count": 11,
   "metadata": {},
   "outputs": [],
   "source": [
    "#Initial imports\n",
    "import pandas as pd\n",
    "from path import Path\n",
    "import tensorflow as tf\n",
    "import hvplot.pandas\n",
    "from tensorflow.keras.layers import Dense\n",
    "from tensorflow.keras.models import Sequential\n",
    "from sklearn.cluster import KMeans\n",
    "from sklearn.linear_model import LinearRegression\n",
    "from sklearn.decomposition import PCA\n",
    "from sklearn.preprocessing import StandardScaler, OneHotEncoder\n",
    "from sklearn.model_selection import train_test_split\n",
    "import matplotlib.pyplot as plt\n",
    "\n",
    "%matplotlib inline"
   ]
  },
  {
   "cell_type": "code",
   "execution_count": 12,
   "metadata": {},
   "outputs": [],
   "source": [
    "# Set a random seed for TensorFlow to allow reproducible testing results\n",
    "tf.random.set_seed(126)"
   ]
  },
  {
   "cell_type": "code",
   "execution_count": 13,
   "metadata": {},
   "outputs": [],
   "source": [
    "#Read in the insurance premium data\n",
    "file_path = Path(\"./Resources/Updated_Project_Data.csv\")\n",
    "InsuranceData_df = pd.read_csv(file_path)\n",
    "InsuranceData_df = InsuranceData_df.dropna()\n"
   ]
  },
  {
   "cell_type": "markdown",
   "metadata": {},
   "source": [
    "### PCA Weight the Features"
   ]
  },
  {
   "cell_type": "code",
   "execution_count": 14,
   "metadata": {},
   "outputs": [
    {
     "data": {
      "text/html": [
       "<div>\n",
       "<style scoped>\n",
       "    .dataframe tbody tr th:only-of-type {\n",
       "        vertical-align: middle;\n",
       "    }\n",
       "\n",
       "    .dataframe tbody tr th {\n",
       "        vertical-align: top;\n",
       "    }\n",
       "\n",
       "    .dataframe thead th {\n",
       "        text-align: right;\n",
       "    }\n",
       "</style>\n",
       "<table border=\"1\" class=\"dataframe\">\n",
       "  <thead>\n",
       "    <tr style=\"text-align: right;\">\n",
       "      <th></th>\n",
       "      <th>DOT</th>\n",
       "      <th>ISS</th>\n",
       "      <th>Years_In_Business</th>\n",
       "      <th>Number Of Trucks</th>\n",
       "      <th>Legal_Name_100 K LOGISTICS CORP</th>\n",
       "      <th>Legal_Name_123 MOVING SOLUTIONS INC</th>\n",
       "      <th>Legal_Name_14 TRANSPORT CORP</th>\n",
       "      <th>Legal_Name_1RCM &amp; ASSOCIATES LLC</th>\n",
       "      <th>Legal_Name_1ST COAST CARGO INC</th>\n",
       "      <th>Legal_Name_1ST RESPONSE ROADSIDE LLC</th>\n",
       "      <th>Legal_Name_2 BROTHERS DDR CORP</th>\n",
       "      <th>Legal_Name_238 TRANSPORT INC</th>\n",
       "      <th>Legal_Name_24 7 MARTINEZ EXPRESS INC</th>\n",
       "      <th>Legal_Name_24K TRUCKING INC</th>\n",
       "      <th>Legal_Name_251 LOGISTICS LLC</th>\n",
       "      <th>Legal_Name_29 TRANSPORT INC</th>\n",
       "      <th>Legal_Name_2MM LINES CORP</th>\n",
       "      <th>Legal_Name_2RV GLOBAL LLC</th>\n",
       "      <th>Legal_Name_3 KINGZ TRANSPORTATION LLC</th>\n",
       "      <th>Legal_Name_305 AUTO EXPRESS CORP</th>\n",
       "      <th>Legal_Name_3D TRANSPORT LLC</th>\n",
       "      <th>Legal_Name_3DNOA TRUCKING SERV LLC</th>\n",
       "      <th>Legal_Name_3M TRUCKING LLC</th>\n",
       "      <th>Legal_Name_4 EVA TRUCKING LLC</th>\n",
       "      <th>Legal_Name_50 STATE CARGO INC</th>\n",
       "      <th>Legal_Name_7 WAY DELIVERY CORP</th>\n",
       "      <th>Legal_Name_786 TRANSPORT LLC</th>\n",
       "      <th>Legal_Name_8 BROTHERS INC</th>\n",
       "      <th>Legal_Name_81 FREIGHT SOLUTIONS CORP</th>\n",
       "      <th>Legal_Name_95 XPRESS LINE CORP</th>\n",
       "      <th>Legal_Name_A &amp; C TRANSPORT LINES INC</th>\n",
       "      <th>Legal_Name_A &amp; G EXPRESS TRUCKING INC</th>\n",
       "      <th>Legal_Name_A &amp; H TOWING SERVICE INC</th>\n",
       "      <th>Legal_Name_A &amp; H TRANSPORT INC</th>\n",
       "      <th>Legal_Name_A &amp; M EXPRESS TRUCKING LLC</th>\n",
       "      <th>Legal_Name_A &amp; N TRANSPORTATION CORP</th>\n",
       "      <th>Legal_Name_A &amp; S AUTO TRANSPORT LLC</th>\n",
       "      <th>Legal_Name_A &amp; Y CARGO CORP</th>\n",
       "      <th>Legal_Name_A B E EXPRESS CORP</th>\n",
       "      <th>Legal_Name_A CANDIES COACHWORKS INC</th>\n",
       "      <th>...</th>\n",
       "      <th>business_county_OKALOOSA</th>\n",
       "      <th>business_county_OKEECHOBEE</th>\n",
       "      <th>business_county_ORANGE</th>\n",
       "      <th>business_county_OSCEOLA</th>\n",
       "      <th>business_county_PALM BEACH</th>\n",
       "      <th>business_county_PASCO</th>\n",
       "      <th>business_county_PASSAIC</th>\n",
       "      <th>business_county_PIERCE</th>\n",
       "      <th>business_county_PINAL</th>\n",
       "      <th>business_county_PINELLAS</th>\n",
       "      <th>business_county_POLK</th>\n",
       "      <th>business_county_PUTNAM</th>\n",
       "      <th>business_county_RIVERSIDE</th>\n",
       "      <th>business_county_SAINT JOHNS</th>\n",
       "      <th>business_county_SAINT LOUIS</th>\n",
       "      <th>business_county_SAINT LUCIE</th>\n",
       "      <th>business_county_SANTA ROSA</th>\n",
       "      <th>business_county_SARASOTA</th>\n",
       "      <th>business_county_SEMINOLE</th>\n",
       "      <th>business_county_SHEBOYGAN</th>\n",
       "      <th>business_county_SUMTER</th>\n",
       "      <th>business_county_SUSSEX</th>\n",
       "      <th>business_county_SUWANNEE</th>\n",
       "      <th>business_county_SWEETWATER</th>\n",
       "      <th>business_county_TANEY</th>\n",
       "      <th>business_county_TARRANT</th>\n",
       "      <th>business_county_UNION</th>\n",
       "      <th>business_county_VIRGINIA BEACH CITY</th>\n",
       "      <th>business_county_VOLUSIA</th>\n",
       "      <th>business_county_WAKE</th>\n",
       "      <th>business_county_WAKULLA</th>\n",
       "      <th>business_county_WASCO</th>\n",
       "      <th>business_county_WASHINGTON</th>\n",
       "      <th>business_county_WAYNE</th>\n",
       "      <th>business_county_WEBB</th>\n",
       "      <th>business_county_WILLIAMSON</th>\n",
       "      <th>business_county_WYANDOTTE</th>\n",
       "      <th>business_county_YORK</th>\n",
       "      <th>County _High Risk</th>\n",
       "      <th>County _Normal</th>\n",
       "    </tr>\n",
       "  </thead>\n",
       "  <tbody>\n",
       "    <tr>\n",
       "      <th>0</th>\n",
       "      <td>3490777.0</td>\n",
       "      <td>100.0</td>\n",
       "      <td>1.0</td>\n",
       "      <td>8.0</td>\n",
       "      <td>0</td>\n",
       "      <td>0</td>\n",
       "      <td>0</td>\n",
       "      <td>0</td>\n",
       "      <td>0</td>\n",
       "      <td>0</td>\n",
       "      <td>0</td>\n",
       "      <td>0</td>\n",
       "      <td>0</td>\n",
       "      <td>0</td>\n",
       "      <td>0</td>\n",
       "      <td>0</td>\n",
       "      <td>0</td>\n",
       "      <td>0</td>\n",
       "      <td>0</td>\n",
       "      <td>0</td>\n",
       "      <td>0</td>\n",
       "      <td>0</td>\n",
       "      <td>0</td>\n",
       "      <td>0</td>\n",
       "      <td>0</td>\n",
       "      <td>0</td>\n",
       "      <td>0</td>\n",
       "      <td>0</td>\n",
       "      <td>0</td>\n",
       "      <td>0</td>\n",
       "      <td>0</td>\n",
       "      <td>0</td>\n",
       "      <td>0</td>\n",
       "      <td>0</td>\n",
       "      <td>0</td>\n",
       "      <td>0</td>\n",
       "      <td>0</td>\n",
       "      <td>0</td>\n",
       "      <td>0</td>\n",
       "      <td>0</td>\n",
       "      <td>...</td>\n",
       "      <td>0</td>\n",
       "      <td>0</td>\n",
       "      <td>0</td>\n",
       "      <td>0</td>\n",
       "      <td>0</td>\n",
       "      <td>0</td>\n",
       "      <td>0</td>\n",
       "      <td>0</td>\n",
       "      <td>0</td>\n",
       "      <td>0</td>\n",
       "      <td>0</td>\n",
       "      <td>0</td>\n",
       "      <td>0</td>\n",
       "      <td>0</td>\n",
       "      <td>0</td>\n",
       "      <td>0</td>\n",
       "      <td>0</td>\n",
       "      <td>0</td>\n",
       "      <td>1</td>\n",
       "      <td>0</td>\n",
       "      <td>0</td>\n",
       "      <td>0</td>\n",
       "      <td>0</td>\n",
       "      <td>0</td>\n",
       "      <td>0</td>\n",
       "      <td>0</td>\n",
       "      <td>0</td>\n",
       "      <td>0</td>\n",
       "      <td>0</td>\n",
       "      <td>0</td>\n",
       "      <td>0</td>\n",
       "      <td>0</td>\n",
       "      <td>0</td>\n",
       "      <td>0</td>\n",
       "      <td>0</td>\n",
       "      <td>0</td>\n",
       "      <td>0</td>\n",
       "      <td>0</td>\n",
       "      <td>0</td>\n",
       "      <td>1</td>\n",
       "    </tr>\n",
       "    <tr>\n",
       "      <th>1</th>\n",
       "      <td>3583145.0</td>\n",
       "      <td>100.0</td>\n",
       "      <td>1.0</td>\n",
       "      <td>8.0</td>\n",
       "      <td>0</td>\n",
       "      <td>0</td>\n",
       "      <td>0</td>\n",
       "      <td>0</td>\n",
       "      <td>0</td>\n",
       "      <td>0</td>\n",
       "      <td>0</td>\n",
       "      <td>0</td>\n",
       "      <td>0</td>\n",
       "      <td>0</td>\n",
       "      <td>0</td>\n",
       "      <td>0</td>\n",
       "      <td>0</td>\n",
       "      <td>0</td>\n",
       "      <td>0</td>\n",
       "      <td>0</td>\n",
       "      <td>0</td>\n",
       "      <td>0</td>\n",
       "      <td>0</td>\n",
       "      <td>0</td>\n",
       "      <td>0</td>\n",
       "      <td>0</td>\n",
       "      <td>0</td>\n",
       "      <td>0</td>\n",
       "      <td>0</td>\n",
       "      <td>0</td>\n",
       "      <td>0</td>\n",
       "      <td>0</td>\n",
       "      <td>0</td>\n",
       "      <td>0</td>\n",
       "      <td>0</td>\n",
       "      <td>0</td>\n",
       "      <td>0</td>\n",
       "      <td>0</td>\n",
       "      <td>0</td>\n",
       "      <td>0</td>\n",
       "      <td>...</td>\n",
       "      <td>0</td>\n",
       "      <td>0</td>\n",
       "      <td>0</td>\n",
       "      <td>0</td>\n",
       "      <td>0</td>\n",
       "      <td>0</td>\n",
       "      <td>0</td>\n",
       "      <td>0</td>\n",
       "      <td>0</td>\n",
       "      <td>0</td>\n",
       "      <td>0</td>\n",
       "      <td>0</td>\n",
       "      <td>0</td>\n",
       "      <td>1</td>\n",
       "      <td>0</td>\n",
       "      <td>0</td>\n",
       "      <td>0</td>\n",
       "      <td>0</td>\n",
       "      <td>0</td>\n",
       "      <td>0</td>\n",
       "      <td>0</td>\n",
       "      <td>0</td>\n",
       "      <td>0</td>\n",
       "      <td>0</td>\n",
       "      <td>0</td>\n",
       "      <td>0</td>\n",
       "      <td>0</td>\n",
       "      <td>0</td>\n",
       "      <td>0</td>\n",
       "      <td>0</td>\n",
       "      <td>0</td>\n",
       "      <td>0</td>\n",
       "      <td>0</td>\n",
       "      <td>0</td>\n",
       "      <td>0</td>\n",
       "      <td>0</td>\n",
       "      <td>0</td>\n",
       "      <td>0</td>\n",
       "      <td>0</td>\n",
       "      <td>1</td>\n",
       "    </tr>\n",
       "    <tr>\n",
       "      <th>2</th>\n",
       "      <td>3259601.0</td>\n",
       "      <td>100.0</td>\n",
       "      <td>3.0</td>\n",
       "      <td>5.0</td>\n",
       "      <td>0</td>\n",
       "      <td>0</td>\n",
       "      <td>0</td>\n",
       "      <td>0</td>\n",
       "      <td>0</td>\n",
       "      <td>0</td>\n",
       "      <td>0</td>\n",
       "      <td>0</td>\n",
       "      <td>0</td>\n",
       "      <td>0</td>\n",
       "      <td>0</td>\n",
       "      <td>0</td>\n",
       "      <td>0</td>\n",
       "      <td>0</td>\n",
       "      <td>0</td>\n",
       "      <td>0</td>\n",
       "      <td>0</td>\n",
       "      <td>0</td>\n",
       "      <td>0</td>\n",
       "      <td>0</td>\n",
       "      <td>0</td>\n",
       "      <td>0</td>\n",
       "      <td>0</td>\n",
       "      <td>0</td>\n",
       "      <td>0</td>\n",
       "      <td>0</td>\n",
       "      <td>0</td>\n",
       "      <td>0</td>\n",
       "      <td>0</td>\n",
       "      <td>0</td>\n",
       "      <td>0</td>\n",
       "      <td>0</td>\n",
       "      <td>0</td>\n",
       "      <td>0</td>\n",
       "      <td>0</td>\n",
       "      <td>0</td>\n",
       "      <td>...</td>\n",
       "      <td>0</td>\n",
       "      <td>0</td>\n",
       "      <td>0</td>\n",
       "      <td>0</td>\n",
       "      <td>0</td>\n",
       "      <td>0</td>\n",
       "      <td>0</td>\n",
       "      <td>0</td>\n",
       "      <td>0</td>\n",
       "      <td>0</td>\n",
       "      <td>0</td>\n",
       "      <td>0</td>\n",
       "      <td>0</td>\n",
       "      <td>0</td>\n",
       "      <td>0</td>\n",
       "      <td>0</td>\n",
       "      <td>0</td>\n",
       "      <td>0</td>\n",
       "      <td>0</td>\n",
       "      <td>0</td>\n",
       "      <td>0</td>\n",
       "      <td>0</td>\n",
       "      <td>0</td>\n",
       "      <td>0</td>\n",
       "      <td>0</td>\n",
       "      <td>0</td>\n",
       "      <td>0</td>\n",
       "      <td>0</td>\n",
       "      <td>0</td>\n",
       "      <td>0</td>\n",
       "      <td>0</td>\n",
       "      <td>0</td>\n",
       "      <td>0</td>\n",
       "      <td>0</td>\n",
       "      <td>0</td>\n",
       "      <td>0</td>\n",
       "      <td>0</td>\n",
       "      <td>0</td>\n",
       "      <td>0</td>\n",
       "      <td>1</td>\n",
       "    </tr>\n",
       "    <tr>\n",
       "      <th>3</th>\n",
       "      <td>872185.0</td>\n",
       "      <td>100.0</td>\n",
       "      <td>22.0</td>\n",
       "      <td>4.0</td>\n",
       "      <td>0</td>\n",
       "      <td>0</td>\n",
       "      <td>0</td>\n",
       "      <td>0</td>\n",
       "      <td>0</td>\n",
       "      <td>0</td>\n",
       "      <td>0</td>\n",
       "      <td>0</td>\n",
       "      <td>0</td>\n",
       "      <td>0</td>\n",
       "      <td>0</td>\n",
       "      <td>0</td>\n",
       "      <td>0</td>\n",
       "      <td>0</td>\n",
       "      <td>0</td>\n",
       "      <td>0</td>\n",
       "      <td>0</td>\n",
       "      <td>0</td>\n",
       "      <td>0</td>\n",
       "      <td>0</td>\n",
       "      <td>0</td>\n",
       "      <td>0</td>\n",
       "      <td>0</td>\n",
       "      <td>0</td>\n",
       "      <td>0</td>\n",
       "      <td>0</td>\n",
       "      <td>0</td>\n",
       "      <td>0</td>\n",
       "      <td>0</td>\n",
       "      <td>0</td>\n",
       "      <td>0</td>\n",
       "      <td>0</td>\n",
       "      <td>0</td>\n",
       "      <td>0</td>\n",
       "      <td>0</td>\n",
       "      <td>0</td>\n",
       "      <td>...</td>\n",
       "      <td>0</td>\n",
       "      <td>0</td>\n",
       "      <td>0</td>\n",
       "      <td>0</td>\n",
       "      <td>0</td>\n",
       "      <td>0</td>\n",
       "      <td>0</td>\n",
       "      <td>0</td>\n",
       "      <td>0</td>\n",
       "      <td>0</td>\n",
       "      <td>0</td>\n",
       "      <td>0</td>\n",
       "      <td>0</td>\n",
       "      <td>0</td>\n",
       "      <td>0</td>\n",
       "      <td>0</td>\n",
       "      <td>0</td>\n",
       "      <td>0</td>\n",
       "      <td>1</td>\n",
       "      <td>0</td>\n",
       "      <td>0</td>\n",
       "      <td>0</td>\n",
       "      <td>0</td>\n",
       "      <td>0</td>\n",
       "      <td>0</td>\n",
       "      <td>0</td>\n",
       "      <td>0</td>\n",
       "      <td>0</td>\n",
       "      <td>0</td>\n",
       "      <td>0</td>\n",
       "      <td>0</td>\n",
       "      <td>0</td>\n",
       "      <td>0</td>\n",
       "      <td>0</td>\n",
       "      <td>0</td>\n",
       "      <td>0</td>\n",
       "      <td>0</td>\n",
       "      <td>0</td>\n",
       "      <td>0</td>\n",
       "      <td>1</td>\n",
       "    </tr>\n",
       "    <tr>\n",
       "      <th>4</th>\n",
       "      <td>3238348.0</td>\n",
       "      <td>100.0</td>\n",
       "      <td>3.0</td>\n",
       "      <td>2.0</td>\n",
       "      <td>0</td>\n",
       "      <td>0</td>\n",
       "      <td>0</td>\n",
       "      <td>0</td>\n",
       "      <td>0</td>\n",
       "      <td>0</td>\n",
       "      <td>0</td>\n",
       "      <td>0</td>\n",
       "      <td>0</td>\n",
       "      <td>0</td>\n",
       "      <td>0</td>\n",
       "      <td>0</td>\n",
       "      <td>0</td>\n",
       "      <td>0</td>\n",
       "      <td>0</td>\n",
       "      <td>0</td>\n",
       "      <td>0</td>\n",
       "      <td>0</td>\n",
       "      <td>0</td>\n",
       "      <td>0</td>\n",
       "      <td>0</td>\n",
       "      <td>0</td>\n",
       "      <td>0</td>\n",
       "      <td>0</td>\n",
       "      <td>0</td>\n",
       "      <td>0</td>\n",
       "      <td>0</td>\n",
       "      <td>0</td>\n",
       "      <td>0</td>\n",
       "      <td>0</td>\n",
       "      <td>0</td>\n",
       "      <td>0</td>\n",
       "      <td>0</td>\n",
       "      <td>0</td>\n",
       "      <td>0</td>\n",
       "      <td>0</td>\n",
       "      <td>...</td>\n",
       "      <td>0</td>\n",
       "      <td>0</td>\n",
       "      <td>0</td>\n",
       "      <td>0</td>\n",
       "      <td>0</td>\n",
       "      <td>0</td>\n",
       "      <td>0</td>\n",
       "      <td>0</td>\n",
       "      <td>0</td>\n",
       "      <td>0</td>\n",
       "      <td>0</td>\n",
       "      <td>0</td>\n",
       "      <td>0</td>\n",
       "      <td>0</td>\n",
       "      <td>0</td>\n",
       "      <td>0</td>\n",
       "      <td>0</td>\n",
       "      <td>0</td>\n",
       "      <td>0</td>\n",
       "      <td>0</td>\n",
       "      <td>0</td>\n",
       "      <td>0</td>\n",
       "      <td>0</td>\n",
       "      <td>0</td>\n",
       "      <td>0</td>\n",
       "      <td>0</td>\n",
       "      <td>0</td>\n",
       "      <td>0</td>\n",
       "      <td>0</td>\n",
       "      <td>0</td>\n",
       "      <td>0</td>\n",
       "      <td>0</td>\n",
       "      <td>0</td>\n",
       "      <td>0</td>\n",
       "      <td>0</td>\n",
       "      <td>0</td>\n",
       "      <td>0</td>\n",
       "      <td>0</td>\n",
       "      <td>1</td>\n",
       "      <td>0</td>\n",
       "    </tr>\n",
       "  </tbody>\n",
       "</table>\n",
       "<p>5 rows × 1984 columns</p>\n",
       "</div>"
      ],
      "text/plain": [
       "         DOT    ISS  ...  County _High Risk  County _Normal\n",
       "0  3490777.0  100.0  ...                  0               1\n",
       "1  3583145.0  100.0  ...                  0               1\n",
       "2  3259601.0  100.0  ...                  0               1\n",
       "3   872185.0  100.0  ...                  0               1\n",
       "4  3238348.0  100.0  ...                  1               0\n",
       "\n",
       "[5 rows x 1984 columns]"
      ]
     },
     "execution_count": 14,
     "metadata": {},
     "output_type": "execute_result"
    }
   ],
   "source": [
    "#Get the Encoded Data from the original dataframe\n",
    "InsuranceData_df_encoded = pd.get_dummies(InsuranceData_df)\n",
    "feature_data_df = InsuranceData_df_encoded.drop(columns=['Yearly Premium'])\n",
    "feature_data_df.head()"
   ]
  },
  {
   "cell_type": "code",
   "execution_count": 15,
   "metadata": {},
   "outputs": [],
   "source": [
    "# set the PCA instance and declare the number of PCA variables\n",
    "pca=PCA(n_components=10)"
   ]
  },
  {
   "cell_type": "code",
   "execution_count": 16,
   "metadata": {},
   "outputs": [
    {
     "data": {
      "text/plain": [
       "array([[-8.30623351e+05,  4.52605800e+01,  5.88577422e+01,\n",
       "         4.27237597e-01, -5.47028106e-01, -5.51169897e-02,\n",
       "        -2.93487134e-02, -5.41021538e-02,  8.24491208e-02,\n",
       "         1.51056533e-01],\n",
       "       [-9.22991351e+05,  5.46442890e+01,  5.87996606e+01,\n",
       "         1.20864936e+00, -5.46392207e-01, -5.68931372e-02,\n",
       "        -3.10667474e-02, -5.25697842e-02,  9.73375776e-02,\n",
       "         1.87773827e-01],\n",
       "       [-5.99447353e+05,  1.87788479e+01,  5.90309765e+01,\n",
       "         4.72672309e-01, -5.22600948e-01, -5.02634253e-02,\n",
       "        -2.22271583e-02, -4.05134179e-02,  7.99752934e-02,\n",
       "         1.38661221e-01],\n",
       "       [ 1.78796864e+06, -2.24727530e+02,  6.05260426e+01,\n",
       "        -7.74430678e-01, -3.52690751e-01, -4.30922654e-02,\n",
       "         1.01460049e-02,  2.89957489e-02,  9.07974037e-02,\n",
       "         1.54435095e-01],\n",
       "       [-5.78194353e+05,  1.36199420e+01,  5.90772362e+01,\n",
       "         2.66879231e-01,  1.19200519e+00, -8.52327536e-03,\n",
       "         1.10154591e-02, -2.04793449e-02,  2.68295817e-02,\n",
       "         1.47595882e-02]])"
      ]
     },
     "execution_count": 16,
     "metadata": {},
     "output_type": "execute_result"
    }
   ],
   "source": [
    "# fit the PCA model on the transformed InsuranceData Dataframe\n",
    "insurance_pca = pca.fit_transform(feature_data_df)\n",
    "\n",
    "# reveiw the first 5 rows of the array of the features\n",
    "insurance_pca[:5]"
   ]
  },
  {
   "cell_type": "code",
   "execution_count": 17,
   "metadata": {},
   "outputs": [
    {
     "data": {
      "text/plain": [
       "array([9.99999820e-01, 1.79134299e-07, 8.92278381e-10, 5.18261476e-12,\n",
       "       5.84061102e-13, 9.19048616e-14, 8.10615989e-14, 7.45322031e-14,\n",
       "       6.67918331e-14, 5.20633201e-14])"
      ]
     },
     "execution_count": 17,
     "metadata": {},
     "output_type": "execute_result"
    }
   ],
   "source": [
    "# Calculate the PCA explained variance ratio....this will determin if you have enough components to accurately explain the dataframe\n",
    "# the higher the sum of the number the better...it will explain x% of the total variance of the dataframe condensed into the PCA variables\n",
    "pca.explained_variance_ratio_"
   ]
  },
  {
   "cell_type": "code",
   "execution_count": 18,
   "metadata": {},
   "outputs": [
    {
     "data": {
      "text/html": [
       "<div>\n",
       "<style scoped>\n",
       "    .dataframe tbody tr th:only-of-type {\n",
       "        vertical-align: middle;\n",
       "    }\n",
       "\n",
       "    .dataframe tbody tr th {\n",
       "        vertical-align: top;\n",
       "    }\n",
       "\n",
       "    .dataframe thead th {\n",
       "        text-align: right;\n",
       "    }\n",
       "</style>\n",
       "<table border=\"1\" class=\"dataframe\">\n",
       "  <thead>\n",
       "    <tr style=\"text-align: right;\">\n",
       "      <th></th>\n",
       "      <th>0</th>\n",
       "      <th>1</th>\n",
       "      <th>2</th>\n",
       "      <th>3</th>\n",
       "      <th>4</th>\n",
       "      <th>5</th>\n",
       "      <th>6</th>\n",
       "      <th>7</th>\n",
       "      <th>8</th>\n",
       "      <th>9</th>\n",
       "    </tr>\n",
       "  </thead>\n",
       "  <tbody>\n",
       "    <tr>\n",
       "      <th>0</th>\n",
       "      <td>-8.306234e+05</td>\n",
       "      <td>45.260580</td>\n",
       "      <td>58.857742</td>\n",
       "      <td>0.427238</td>\n",
       "      <td>-0.547028</td>\n",
       "      <td>-0.055117</td>\n",
       "      <td>-0.029349</td>\n",
       "      <td>-0.054102</td>\n",
       "      <td>0.082449</td>\n",
       "      <td>0.151057</td>\n",
       "    </tr>\n",
       "    <tr>\n",
       "      <th>1</th>\n",
       "      <td>-9.229914e+05</td>\n",
       "      <td>54.644289</td>\n",
       "      <td>58.799661</td>\n",
       "      <td>1.208649</td>\n",
       "      <td>-0.546392</td>\n",
       "      <td>-0.056893</td>\n",
       "      <td>-0.031067</td>\n",
       "      <td>-0.052570</td>\n",
       "      <td>0.097338</td>\n",
       "      <td>0.187774</td>\n",
       "    </tr>\n",
       "    <tr>\n",
       "      <th>2</th>\n",
       "      <td>-5.994474e+05</td>\n",
       "      <td>18.778848</td>\n",
       "      <td>59.030977</td>\n",
       "      <td>0.472672</td>\n",
       "      <td>-0.522601</td>\n",
       "      <td>-0.050263</td>\n",
       "      <td>-0.022227</td>\n",
       "      <td>-0.040513</td>\n",
       "      <td>0.079975</td>\n",
       "      <td>0.138661</td>\n",
       "    </tr>\n",
       "    <tr>\n",
       "      <th>3</th>\n",
       "      <td>1.787969e+06</td>\n",
       "      <td>-224.727530</td>\n",
       "      <td>60.526043</td>\n",
       "      <td>-0.774431</td>\n",
       "      <td>-0.352691</td>\n",
       "      <td>-0.043092</td>\n",
       "      <td>0.010146</td>\n",
       "      <td>0.028996</td>\n",
       "      <td>0.090797</td>\n",
       "      <td>0.154435</td>\n",
       "    </tr>\n",
       "    <tr>\n",
       "      <th>4</th>\n",
       "      <td>-5.781944e+05</td>\n",
       "      <td>13.619942</td>\n",
       "      <td>59.077236</td>\n",
       "      <td>0.266879</td>\n",
       "      <td>1.192005</td>\n",
       "      <td>-0.008523</td>\n",
       "      <td>0.011015</td>\n",
       "      <td>-0.020479</td>\n",
       "      <td>0.026830</td>\n",
       "      <td>0.014760</td>\n",
       "    </tr>\n",
       "  </tbody>\n",
       "</table>\n",
       "</div>"
      ],
      "text/plain": [
       "              0           1          2  ...         7         8         9\n",
       "0 -8.306234e+05   45.260580  58.857742  ... -0.054102  0.082449  0.151057\n",
       "1 -9.229914e+05   54.644289  58.799661  ... -0.052570  0.097338  0.187774\n",
       "2 -5.994474e+05   18.778848  59.030977  ... -0.040513  0.079975  0.138661\n",
       "3  1.787969e+06 -224.727530  60.526043  ...  0.028996  0.090797  0.154435\n",
       "4 -5.781944e+05   13.619942  59.077236  ... -0.020479  0.026830  0.014760\n",
       "\n",
       "[5 rows x 10 columns]"
      ]
     },
     "execution_count": 18,
     "metadata": {},
     "output_type": "execute_result"
    }
   ],
   "source": [
    "# Create the PCA Dataframe\n",
    "insurance_pca_df = pd.DataFrame(\n",
    "    insurance_pca\n",
    ")\n",
    "\n",
    "# Review the PCA DataFrame\n",
    "insurance_pca_df.head()"
   ]
  },
  {
   "cell_type": "code",
   "execution_count": 19,
   "metadata": {},
   "outputs": [],
   "source": [
    "# Define the features data...aka the insurance premium feature inputs\n",
    "# right now I am just setting up the framework for the data inputs...for our project the X data will be all values other than the insurance premium\n",
    "\n",
    "#InsuranceData_df = InsuranceData_df[['County ','ISS', 'Years_In_Business', 'Number Of Trucks ', 'Yearly Premium']]\n",
    "#InsuranceData_df_encoded = pd.get_dummies(InsuranceData_df)\n",
    "#X = InsuranceData_df_encoded.drop(columns=['Yearly Premium', 'County _High Risk'])\n",
    "X = insurance_pca_df\n"
   ]
  },
  {
   "cell_type": "code",
   "execution_count": 20,
   "metadata": {},
   "outputs": [],
   "source": [
    "# Define the target Data....aka the insurance premium\n",
    "# right now I am just setting up the framework for the data inputs...for our project the y data will be the insurance premium\n",
    "y = InsuranceData_df_encoded['Yearly Premium'].values"
   ]
  },
  {
   "cell_type": "markdown",
   "metadata": {},
   "source": [
    "### Scale the Data for the Neural Network Model"
   ]
  },
  {
   "cell_type": "code",
   "execution_count": 21,
   "metadata": {},
   "outputs": [],
   "source": [
    "# Create the scaler instance and fit scaler with features data\n",
    "scaler = StandardScaler().fit(X)\n",
    "# Scale the features data\n",
    "X = scaler.transform(X)\n",
    "\n",
    "\n",
    "\n"
   ]
  },
  {
   "cell_type": "code",
   "execution_count": 22,
   "metadata": {},
   "outputs": [],
   "source": [
    "# Create a shallow, 1 hidden layer, neural network\n",
    "neural_n = Sequential()\n",
    "\n",
    "# Hidden layer\n",
    "neural_n.add(Dense(units=30, input_dim=10, activation=\"relu\"))\n",
    "\n",
    "# Output layer\n",
    "neural_n.add(Dense(units=1, activation=\"linear\"))"
   ]
  },
  {
   "cell_type": "code",
   "execution_count": 23,
   "metadata": {},
   "outputs": [],
   "source": [
    "# Compile the model\n",
    "neural_n.compile(loss=\"mean_squared_error\", optimizer=\"adam\", metrics=[\"mse\"])\n",
    "\n",
    "# Fit the model\n",
    "model_1 = neural_n.fit(X, y, validation_split=0.3, epochs=1000, verbose=0)"
   ]
  },
  {
   "cell_type": "code",
   "execution_count": 24,
   "metadata": {},
   "outputs": [],
   "source": [
    "# Define the model - deep neural network with two layers\n",
    "nn_2 = Sequential()\n",
    "\n",
    "# First hidden layer\n",
    "nn_2.add(Dense(units=30, input_dim=10, activation=\"relu\"))\n",
    "\n",
    "# Second hidden layer\n",
    "nn_2.add(Dense(units=20, activation=\"relu\"))\n",
    "\n",
    "# Output layer\n",
    "nn_2.add(Dense(units=1, activation=\"linear\"))"
   ]
  },
  {
   "cell_type": "code",
   "execution_count": 25,
   "metadata": {},
   "outputs": [],
   "source": [
    "# Compile the model\n",
    "nn_2.compile(loss=\"mean_squared_error\", optimizer=\"adam\", metrics=[\"mse\"])\n",
    "\n",
    "# Fit the model\n",
    "model_2 = nn_2.fit(X, y, validation_split=0.3, epochs=1000, verbose=0)"
   ]
  },
  {
   "cell_type": "code",
   "execution_count": 26,
   "metadata": {},
   "outputs": [
    {
     "data": {
      "image/png": "[encoded data removed]",
      "text/plain": [
       "<Figure size 432x288 with 1 Axes>"
      ]
     },
     "metadata": {
      "needs_background": "light"
     },
     "output_type": "display_data"
    }
   ],
   "source": [
    "# Plot the loss function of the training results for the two models\n",
    "plt.plot(model_1.history[\"loss\"])\n",
    "plt.plot(model_2.history[\"loss\"])\n",
    "plt.title(\"loss_function - Training - 1 hidden layer Vs. 2 hinden layer\")\n",
    "plt.legend([\"1 hidden layer\", \"2 hidden layers\"])\n",
    "plt.show()"
   ]
  },
  {
   "cell_type": "code",
   "execution_count": 27,
   "metadata": {},
   "outputs": [
    {
     "data": {
      "image/png": "[encoded data removed]",
      "text/plain": [
       "<Figure size 432x288 with 1 Axes>"
      ]
     },
     "metadata": {
      "needs_background": "light"
     },
     "output_type": "display_data"
    }
   ],
   "source": [
    "# Plot train vs test for shallow net\n",
    "plt.plot(model_1.history[\"loss\"])\n",
    "plt.plot(model_1.history[\"val_loss\"])\n",
    "plt.title(\"loss_function - 1 hidden layer - Train Vs. Test\")\n",
    "plt.legend([\"train\", \"test\"])\n",
    "plt.show()"
   ]
  },
  {
   "cell_type": "code",
   "execution_count": 28,
   "metadata": {},
   "outputs": [
    {
     "name": "stdout",
     "output_type": "stream",
     "text": [
      "61/61 [==============================] - 0s 799us/step\n",
      "61/61 [==============================] - 0s 692us/step\n"
     ]
    }
   ],
   "source": [
    "# Adding the Predictions onto the Original Datafram\n",
    "InsuranceData_df['Predictions1'] = neural_n.predict(X)\n",
    "InsuranceData_df['Predictions2'] = nn_2.predict(X)\n",
    "\n",
    "\n"
   ]
  },
  {
   "cell_type": "code",
   "execution_count": 29,
   "metadata": {},
   "outputs": [
    {
     "data": {
      "text/html": [
       "<div>\n",
       "<style scoped>\n",
       "    .dataframe tbody tr th:only-of-type {\n",
       "        vertical-align: middle;\n",
       "    }\n",
       "\n",
       "    .dataframe tbody tr th {\n",
       "        vertical-align: top;\n",
       "    }\n",
       "\n",
       "    .dataframe thead th {\n",
       "        text-align: right;\n",
       "    }\n",
       "</style>\n",
       "<table border=\"1\" class=\"dataframe\">\n",
       "  <thead>\n",
       "    <tr style=\"text-align: right;\">\n",
       "      <th></th>\n",
       "      <th>DOT</th>\n",
       "      <th>Legal_Name</th>\n",
       "      <th>Business_State</th>\n",
       "      <th>business_county</th>\n",
       "      <th>County</th>\n",
       "      <th>ISS</th>\n",
       "      <th>Years_In_Business</th>\n",
       "      <th>Number Of Trucks</th>\n",
       "      <th>Yearly Premium</th>\n",
       "      <th>Predictions1</th>\n",
       "      <th>Predictions2</th>\n",
       "    </tr>\n",
       "  </thead>\n",
       "  <tbody>\n",
       "    <tr>\n",
       "      <th>0</th>\n",
       "      <td>3490777.0</td>\n",
       "      <td>DJS EXPRESS TRANSPORT LLC</td>\n",
       "      <td>FL</td>\n",
       "      <td>SEMINOLE</td>\n",
       "      <td>Normal</td>\n",
       "      <td>100.0</td>\n",
       "      <td>1.0</td>\n",
       "      <td>8.0</td>\n",
       "      <td>122500</td>\n",
       "      <td>7034.338867</td>\n",
       "      <td>2.087594e+03</td>\n",
       "    </tr>\n",
       "    <tr>\n",
       "      <th>1</th>\n",
       "      <td>3583145.0</td>\n",
       "      <td>HERSEY ENTERPRISES LLC</td>\n",
       "      <td>FL</td>\n",
       "      <td>SAINT JOHNS</td>\n",
       "      <td>Normal</td>\n",
       "      <td>100.0</td>\n",
       "      <td>1.0</td>\n",
       "      <td>8.0</td>\n",
       "      <td>122500</td>\n",
       "      <td>5401.496094</td>\n",
       "      <td>2.087594e+03</td>\n",
       "    </tr>\n",
       "    <tr>\n",
       "      <th>2</th>\n",
       "      <td>3259601.0</td>\n",
       "      <td>TRANSPORT LOGISTICS EXPRESS CORP</td>\n",
       "      <td>FL</td>\n",
       "      <td>COLUMBIA</td>\n",
       "      <td>Normal</td>\n",
       "      <td>100.0</td>\n",
       "      <td>3.0</td>\n",
       "      <td>5.0</td>\n",
       "      <td>87500</td>\n",
       "      <td>9089.982422</td>\n",
       "      <td>2.087594e+03</td>\n",
       "    </tr>\n",
       "    <tr>\n",
       "      <th>3</th>\n",
       "      <td>872185.0</td>\n",
       "      <td>CT&amp;T TRANSPORT INC</td>\n",
       "      <td>FL</td>\n",
       "      <td>SEMINOLE</td>\n",
       "      <td>Normal</td>\n",
       "      <td>100.0</td>\n",
       "      <td>22.0</td>\n",
       "      <td>4.0</td>\n",
       "      <td>68500</td>\n",
       "      <td>34715.664062</td>\n",
       "      <td>2.342410e+06</td>\n",
       "    </tr>\n",
       "    <tr>\n",
       "      <th>4</th>\n",
       "      <td>3238348.0</td>\n",
       "      <td>PINE LOGICS LLC</td>\n",
       "      <td>FL</td>\n",
       "      <td>MIAMI-DADE</td>\n",
       "      <td>High Risk</td>\n",
       "      <td>100.0</td>\n",
       "      <td>3.0</td>\n",
       "      <td>2.0</td>\n",
       "      <td>39000</td>\n",
       "      <td>8546.380859</td>\n",
       "      <td>2.087594e+03</td>\n",
       "    </tr>\n",
       "  </tbody>\n",
       "</table>\n",
       "</div>"
      ],
      "text/plain": [
       "         DOT                        Legal_Name  ...  Predictions1  Predictions2\n",
       "0  3490777.0         DJS EXPRESS TRANSPORT LLC  ...   7034.338867  2.087594e+03\n",
       "1  3583145.0            HERSEY ENTERPRISES LLC  ...   5401.496094  2.087594e+03\n",
       "2  3259601.0  TRANSPORT LOGISTICS EXPRESS CORP  ...   9089.982422  2.087594e+03\n",
       "3   872185.0                CT&T TRANSPORT INC  ...  34715.664062  2.342410e+06\n",
       "4  3238348.0                   PINE LOGICS LLC  ...   8546.380859  2.087594e+03\n",
       "\n",
       "[5 rows x 11 columns]"
      ]
     },
     "execution_count": 29,
     "metadata": {},
     "output_type": "execute_result"
    }
   ],
   "source": [
    "InsuranceData_df.head()"
   ]
  },
  {
   "cell_type": "markdown",
   "metadata": {},
   "source": [
    "## Neural Network Using PyTorch"
   ]
  },
  {
   "cell_type": "code",
   "execution_count": 30,
   "metadata": {},
   "outputs": [],
   "source": [
    "import torch\n",
    "import torch.nn as nn\n",
    "import numpy as np\n",
    "from torch.utils.data import DataLoader, TensorDataset, random_split\n",
    "import torch.nn.functional as F"
   ]
  },
  {
   "cell_type": "code",
   "execution_count": 31,
   "metadata": {},
   "outputs": [],
   "source": [
    "# Define the features data...aka the insurance premium feature inputs\n",
    "# right now I am just setting up the framework for the data inputs...for our project the X data will be all values other than the insurance premium\n",
    "InsuranceData_df = InsuranceData_df[['County ','ISS', 'Years_In_Business', 'Number Of Trucks ', 'Yearly Premium']]\n",
    "InsuranceData_df_encoded = pd.get_dummies(InsuranceData_df)"
   ]
  },
  {
   "cell_type": "code",
   "execution_count": 32,
   "metadata": {},
   "outputs": [],
   "source": [
    "# create the input arrays for inputs an the target data\n",
    "inputs_array = InsuranceData_df_encoded.drop(columns='Yearly Premium')\n",
    "inputs_array = inputs_array.to_numpy()\n",
    "targets_array = InsuranceData_df['Yearly Premium'].to_numpy()\n",
    "inputs_array, targets_array\n",
    "inputs = torch.Tensor(inputs_array)\n",
    "targets = torch.Tensor(targets_array)\n",
    "inputs.dtype, targets.dtype\n",
    "dataset = TensorDataset(inputs, targets)"
   ]
  },
  {
   "cell_type": "code",
   "execution_count": 33,
   "metadata": {},
   "outputs": [],
   "source": [
    "# create the % training and test data\n",
    "val_percent = 0.15\n",
    "val_size = int(inputs_array.shape[0] * val_percent)\n",
    "train_size = inputs_array.shape[0] - val_size"
   ]
  },
  {
   "cell_type": "code",
   "execution_count": 34,
   "metadata": {},
   "outputs": [],
   "source": [
    "# Use the random_split function to split dataset into 2 parts of the desired length\n",
    "train_ds, val_ds = random_split(dataset,[train_size,val_size]) "
   ]
  },
  {
   "cell_type": "code",
   "execution_count": 35,
   "metadata": {},
   "outputs": [],
   "source": [
    "# create data loaders for training & validation\n",
    "batch_size = 10\n",
    "train_loader = DataLoader(train_ds, batch_size, shuffle=True)\n",
    "val_loader = DataLoader(val_ds, batch_size)"
   ]
  },
  {
   "cell_type": "code",
   "execution_count": 36,
   "metadata": {},
   "outputs": [
    {
     "name": "stdout",
     "output_type": "stream",
     "text": [
      "inputs: tensor([[41.,  1.,  1.,  0.,  1.],\n",
      "        [79.,  5.,  1.,  1.,  0.],\n",
      "        [ 1.,  1.,  1.,  0.,  1.],\n",
      "        [42.,  1.,  1.,  1.,  0.],\n",
      "        [ 1.,  5.,  1.,  0.,  1.],\n",
      "        [ 1.,  4.,  8.,  0.,  1.],\n",
      "        [29.,  3.,  1.,  1.,  0.],\n",
      "        [38.,  0.,  1.,  0.,  1.],\n",
      "        [39.,  1.,  1.,  0.,  1.],\n",
      "        [ 1., 16.,  3.,  0.,  1.]])\n",
      "targets: tensor([ 15000.,  22000.,  15000.,  17500.,  15000., 118000.,  17500.,  15000.,\n",
      "         15000.,  47000.])\n"
     ]
    }
   ],
   "source": [
    "for xb, yb in train_loader:\n",
    "    print(\"inputs:\", xb)\n",
    "    print(\"targets:\", yb)\n",
    "    break"
   ]
  },
  {
   "cell_type": "code",
   "execution_count": 37,
   "metadata": {},
   "outputs": [],
   "source": [
    "# Creating the input and output sizes for the Linear Regression Model\n",
    "input_size = InsuranceData_df_encoded.drop(columns='Yearly Premium').shape[1]\n",
    "output_size = InsuranceData_df_encoded.shape[1] - input_size\n"
   ]
  },
  {
   "cell_type": "code",
   "execution_count": 38,
   "metadata": {},
   "outputs": [],
   "source": [
    "# Insurance Model Function\n",
    "class InsuranceModel(nn.Module):\n",
    "    def __init__(self):\n",
    "        super().__init__()\n",
    "        self.linear = nn.Linear(input_size, output_size)\n",
    "        # fill this (hint: use input_size & output_size defined above)\n",
    "        \n",
    "    def forward(self, xb):\n",
    "        out = self.linear(xb)                          # fill this\n",
    "        return out\n",
    "    \n",
    "    def training_step(self, batch):\n",
    "        inputs, targets = batch \n",
    "        # Generate predictions\n",
    "        out = self(inputs)          \n",
    "        # Calcuate loss\n",
    "        #loss = F.mse_loss(out, targets)                          # fill this\n",
    "        loss = F.l1_loss(out, targets) \n",
    "        return loss\n",
    "    \n",
    "    def validation_step(self, batch):\n",
    "        inputs, targets = batch\n",
    "        # Generate predictions\n",
    "        out = self(inputs)\n",
    "        # Calculate loss\n",
    "       # loss = F.mse_loss(out, targets)                           # fill this\n",
    "        loss = F.l1_loss(out, targets) \n",
    "        return {'val_loss': loss.detach()}\n",
    "        \n",
    "    def validation_epoch_end(self, outputs):\n",
    "        batch_losses = [x['val_loss'] for x in outputs]\n",
    "        epoch_loss = torch.stack(batch_losses).mean()   # Combine losses\n",
    "        return {'val_loss': epoch_loss.item()}\n",
    "    \n",
    "    def epoch_end(self, epoch, result, num_epochs):\n",
    "        # Print result every 20th epoch\n",
    "        if (epoch+1) % 20 == 0 or epoch == num_epochs-1:\n",
    "            print(\"Epoch [{}], val_loss: {:.4f}\".format(epoch+1, result['val_loss']))"
   ]
  },
  {
   "cell_type": "code",
   "execution_count": 39,
   "metadata": {},
   "outputs": [],
   "source": [
    "model = InsuranceModel()"
   ]
  },
  {
   "cell_type": "code",
   "execution_count": 40,
   "metadata": {},
   "outputs": [
    {
     "data": {
      "text/plain": [
       "[Parameter containing:\n",
       " tensor([[-0.2318, -0.0057, -0.0377, -0.1650,  0.0604]], requires_grad=True),\n",
       " Parameter containing:\n",
       " tensor([0.4378], requires_grad=True)]"
      ]
     },
     "execution_count": 40,
     "metadata": {},
     "output_type": "execute_result"
    }
   ],
   "source": [
    "list(model.parameters())"
   ]
  },
  {
   "cell_type": "code",
   "execution_count": 41,
   "metadata": {},
   "outputs": [],
   "source": [
    "def evaluate(model, val_loader):\n",
    "    outputs = [model.validation_step(batch) for batch in val_loader]\n",
    "    return model.validation_epoch_end(outputs)\n",
    "\n",
    "def fit(epochs, lr, model, train_loader, val_loader, opt_func=torch.optim.Adam):\n",
    "    history = []\n",
    "    optimizer = opt_func(model.parameters(), lr)\n",
    "    for epoch in range(epochs):\n",
    "        # Training Phase \n",
    "        for batch in train_loader:\n",
    "            loss = model.training_step(batch)\n",
    "            loss.backward()\n",
    "            optimizer.step()\n",
    "            optimizer.zero_grad()\n",
    "        # Validation phase\n",
    "        result = evaluate(model, val_loader)\n",
    "        model.epoch_end(epoch, result, epochs)\n",
    "        history.append(result)\n",
    "    return history"
   ]
  },
  {
   "cell_type": "code",
   "execution_count": 42,
   "metadata": {},
   "outputs": [
    {
     "name": "stdout",
     "output_type": "stream",
     "text": [
      "{'val_loss': 516643.25}\n"
     ]
    },
    {
     "name": "stderr",
     "output_type": "stream",
     "text": [
      "c:\\Users\\15613\\Anaconda3\\envs\\dev\\envs\\MachineEnv\\lib\\site-packages\\ipykernel_launcher.py:27: UserWarning: Using a target size (torch.Size([10])) that is different to the input size (torch.Size([10, 1])). This will likely lead to incorrect results due to broadcasting. Please ensure they have the same size.\n"
     ]
    }
   ],
   "source": [
    "result = evaluate(model, val_loader) # Use the the evaluate function\n",
    "print(result)"
   ]
  },
  {
   "cell_type": "code",
   "execution_count": 43,
   "metadata": {},
   "outputs": [
    {
     "name": "stderr",
     "output_type": "stream",
     "text": [
      "c:\\Users\\15613\\Anaconda3\\envs\\dev\\envs\\MachineEnv\\lib\\site-packages\\ipykernel_launcher.py:18: UserWarning: Using a target size (torch.Size([10])) that is different to the input size (torch.Size([10, 1])). This will likely lead to incorrect results due to broadcasting. Please ensure they have the same size.\n",
      "c:\\Users\\15613\\Anaconda3\\envs\\dev\\envs\\MachineEnv\\lib\\site-packages\\ipykernel_launcher.py:18: UserWarning: Using a target size (torch.Size([8])) that is different to the input size (torch.Size([8, 1])). This will likely lead to incorrect results due to broadcasting. Please ensure they have the same size.\n",
      "c:\\Users\\15613\\Anaconda3\\envs\\dev\\envs\\MachineEnv\\lib\\site-packages\\ipykernel_launcher.py:27: UserWarning: Using a target size (torch.Size([10])) that is different to the input size (torch.Size([10, 1])). This will likely lead to incorrect results due to broadcasting. Please ensure they have the same size.\n"
     ]
    },
    {
     "name": "stdout",
     "output_type": "stream",
     "text": [
      "Epoch [20], val_loss: 499361.6875\n",
      "Epoch [40], val_loss: 498616.3750\n",
      "Epoch [60], val_loss: 498131.9688\n",
      "Epoch [80], val_loss: 497783.2812\n",
      "Epoch [100], val_loss: 497604.6875\n"
     ]
    }
   ],
   "source": [
    "epochs = 1000\n",
    "lr = 1\n",
    "history1 = fit(epochs, lr, model, train_loader, val_loader)"
   ]
  },
  {
   "cell_type": "code",
   "execution_count": 44,
   "metadata": {},
   "outputs": [
    {
     "name": "stderr",
     "output_type": "stream",
     "text": [
      "c:\\Users\\15613\\Anaconda3\\envs\\dev\\envs\\MachineEnv\\lib\\site-packages\\ipykernel_launcher.py:18: UserWarning: Using a target size (torch.Size([10])) that is different to the input size (torch.Size([10, 1])). This will likely lead to incorrect results due to broadcasting. Please ensure they have the same size.\n",
      "c:\\Users\\15613\\Anaconda3\\envs\\dev\\envs\\MachineEnv\\lib\\site-packages\\ipykernel_launcher.py:18: UserWarning: Using a target size (torch.Size([8])) that is different to the input size (torch.Size([8, 1])). This will likely lead to incorrect results due to broadcasting. Please ensure they have the same size.\n",
      "c:\\Users\\15613\\Anaconda3\\envs\\dev\\envs\\MachineEnv\\lib\\site-packages\\ipykernel_launcher.py:27: UserWarning: Using a target size (torch.Size([10])) that is different to the input size (torch.Size([10, 1])). This will likely lead to incorrect results due to broadcasting. Please ensure they have the same size.\n"
     ]
    },
    {
     "name": "stdout",
     "output_type": "stream",
     "text": [
      "Epoch [20], val_loss: 497606.1875\n",
      "Epoch [40], val_loss: 497606.7812\n",
      "Epoch [60], val_loss: 497608.0312\n",
      "Epoch [80], val_loss: 497609.0938\n",
      "Epoch [100], val_loss: 497609.5312\n"
     ]
    }
   ],
   "source": [
    "epochs = 1000\n",
    "lr = 1e-3\n",
    "history2 = fit(epochs, lr, model, train_loader, val_loader)"
   ]
  },
  {
   "cell_type": "code",
   "execution_count": 45,
   "metadata": {},
   "outputs": [
    {
     "name": "stderr",
     "output_type": "stream",
     "text": [
      "c:\\Users\\15613\\Anaconda3\\envs\\dev\\envs\\MachineEnv\\lib\\site-packages\\ipykernel_launcher.py:18: UserWarning: Using a target size (torch.Size([10])) that is different to the input size (torch.Size([10, 1])). This will likely lead to incorrect results due to broadcasting. Please ensure they have the same size.\n",
      "c:\\Users\\15613\\Anaconda3\\envs\\dev\\envs\\MachineEnv\\lib\\site-packages\\ipykernel_launcher.py:18: UserWarning: Using a target size (torch.Size([8])) that is different to the input size (torch.Size([8, 1])). This will likely lead to incorrect results due to broadcasting. Please ensure they have the same size.\n",
      "c:\\Users\\15613\\Anaconda3\\envs\\dev\\envs\\MachineEnv\\lib\\site-packages\\ipykernel_launcher.py:27: UserWarning: Using a target size (torch.Size([10])) that is different to the input size (torch.Size([10, 1])). This will likely lead to incorrect results due to broadcasting. Please ensure they have the same size.\n"
     ]
    },
    {
     "name": "stdout",
     "output_type": "stream",
     "text": [
      "Epoch [20], val_loss: 497612.0312\n",
      "Epoch [40], val_loss: 497611.7500\n",
      "Epoch [60], val_loss: 497610.7812\n",
      "Epoch [80], val_loss: 497607.0938\n",
      "Epoch [100], val_loss: 497607.3125\n"
     ]
    }
   ],
   "source": [
    "epochs = 1000\n",
    "lr = 1e-2\n",
    "history3 = fit(epochs, lr, model, train_loader, val_loader)"
   ]
  },
  {
   "cell_type": "code",
   "execution_count": 46,
   "metadata": {},
   "outputs": [
    {
     "name": "stderr",
     "output_type": "stream",
     "text": [
      "c:\\Users\\15613\\Anaconda3\\envs\\dev\\envs\\MachineEnv\\lib\\site-packages\\ipykernel_launcher.py:27: UserWarning: Using a target size (torch.Size([10])) that is different to the input size (torch.Size([10, 1])). This will likely lead to incorrect results due to broadcasting. Please ensure they have the same size.\n"
     ]
    },
    {
     "data": {
      "text/plain": [
       "{'val_loss': 497607.3125}"
      ]
     },
     "execution_count": 46,
     "metadata": {},
     "output_type": "execute_result"
    }
   ],
   "source": [
    "val_loss = evaluate(model, val_loader)\n",
    "val_loss"
   ]
  },
  {
   "cell_type": "code",
   "execution_count": 48,
   "metadata": {},
   "outputs": [],
   "source": [
    "# Grab a single data point to see what the target and predictions are\n",
    "def predict_single(input, target, model):\n",
    "    inputs = input.unsqueeze(0)\n",
    "    predictions = model(input)              # fill this\n",
    "    prediction = predictions[0].detach()\n",
    "    print(\"Input:\", input)\n",
    "    print(\"Target:\", target)\n",
    "    print(\"Prediction:\", prediction)\n",
    "    return prediction"
   ]
  },
  {
   "cell_type": "code",
   "execution_count": 49,
   "metadata": {},
   "outputs": [
    {
     "name": "stdout",
     "output_type": "stream",
     "text": [
      "Input: tensor([42.,  3.,  1.,  0.,  1.])\n",
      "Target: tensor(15000.)\n",
      "Prediction: tensor(28654.7148)\n"
     ]
    },
    {
     "data": {
      "text/plain": [
       "tensor(28654.7148)"
      ]
     },
     "execution_count": 49,
     "metadata": {},
     "output_type": "execute_result"
    }
   ],
   "source": [
    "# testing one data point to see how the model did\n",
    "input, target = val_ds[0]\n",
    "predict_single(input, target, model)\n"
   ]
  },
  {
   "cell_type": "code",
   "execution_count": 50,
   "metadata": {},
   "outputs": [
    {
     "name": "stdout",
     "output_type": "stream",
     "text": [
      "Input: tensor([96.,  7., 43.,  0.,  1.])\n",
      "Target: tensor(645500.)\n",
      "Prediction: tensor(44326.)\n"
     ]
    },
    {
     "data": {
      "text/plain": [
       "tensor(44326.)"
      ]
     },
     "execution_count": 50,
     "metadata": {},
     "output_type": "execute_result"
    }
   ],
   "source": [
    "# testing another data point to see how the model did\n",
    "input, target = val_ds[10]\n",
    "predict_single(input, target, model)"
   ]
  },
  {
   "cell_type": "code",
   "execution_count": 51,
   "metadata": {},
   "outputs": [],
   "source": [
    "# grabbing the full tensor of predictions\n",
    "def predict_full(input, target, model):\n",
    "    inputs = input.unsqueeze(0)\n",
    "    predictions = model(input)              \n",
    "    prediction = predictions.detach()\n",
    "    #print(\"Input:\", input)\n",
    "    #print(\"Target:\", target)\n",
    "    #print(\"Prediction:\", prediction)\n",
    "    return prediction"
   ]
  },
  {
   "cell_type": "code",
   "execution_count": 58,
   "metadata": {},
   "outputs": [
    {
     "name": "stdout",
     "output_type": "stream",
     "text": [
      "Target: tensor([122500., 122500.,  87500.,  ...,  15000.,  15000.,  86000.])\n",
      "Prediction: tensor([[41336.3438],\n",
      "        [41336.3438],\n",
      "        [42714.8203],\n",
      "        ...,\n",
      "        [16654.6094],\n",
      "        [16654.6094],\n",
      "        [38499.4609]])\n"
     ]
    },
    {
     "data": {
      "text/html": [
       "<div>\n",
       "<style scoped>\n",
       "    .dataframe tbody tr th:only-of-type {\n",
       "        vertical-align: middle;\n",
       "    }\n",
       "\n",
       "    .dataframe tbody tr th {\n",
       "        vertical-align: top;\n",
       "    }\n",
       "\n",
       "    .dataframe thead th {\n",
       "        text-align: right;\n",
       "    }\n",
       "</style>\n",
       "<table border=\"1\" class=\"dataframe\">\n",
       "  <thead>\n",
       "    <tr style=\"text-align: right;\">\n",
       "      <th></th>\n",
       "      <th>Actual</th>\n",
       "      <th>Prediction</th>\n",
       "    </tr>\n",
       "  </thead>\n",
       "  <tbody>\n",
       "    <tr>\n",
       "      <th>0</th>\n",
       "      <td>122500.0</td>\n",
       "      <td>41336.343750</td>\n",
       "    </tr>\n",
       "    <tr>\n",
       "      <th>1</th>\n",
       "      <td>122500.0</td>\n",
       "      <td>41336.343750</td>\n",
       "    </tr>\n",
       "    <tr>\n",
       "      <th>2</th>\n",
       "      <td>87500.0</td>\n",
       "      <td>42714.820312</td>\n",
       "    </tr>\n",
       "    <tr>\n",
       "      <th>3</th>\n",
       "      <td>68500.0</td>\n",
       "      <td>55700.992188</td>\n",
       "    </tr>\n",
       "    <tr>\n",
       "      <th>4</th>\n",
       "      <td>39000.0</td>\n",
       "      <td>41607.367188</td>\n",
       "    </tr>\n",
       "    <tr>\n",
       "      <th>...</th>\n",
       "      <td>...</td>\n",
       "      <td>...</td>\n",
       "    </tr>\n",
       "    <tr>\n",
       "      <th>1933</th>\n",
       "      <td>17500.0</td>\n",
       "      <td>16901.765625</td>\n",
       "    </tr>\n",
       "    <tr>\n",
       "      <th>1934</th>\n",
       "      <td>15000.0</td>\n",
       "      <td>17337.882812</td>\n",
       "    </tr>\n",
       "    <tr>\n",
       "      <th>1935</th>\n",
       "      <td>15000.0</td>\n",
       "      <td>16654.609375</td>\n",
       "    </tr>\n",
       "    <tr>\n",
       "      <th>1936</th>\n",
       "      <td>15000.0</td>\n",
       "      <td>16654.609375</td>\n",
       "    </tr>\n",
       "    <tr>\n",
       "      <th>1937</th>\n",
       "      <td>86000.0</td>\n",
       "      <td>38499.460938</td>\n",
       "    </tr>\n",
       "  </tbody>\n",
       "</table>\n",
       "<p>1938 rows × 2 columns</p>\n",
       "</div>"
      ],
      "text/plain": [
       "        Actual    Prediction\n",
       "0     122500.0  41336.343750\n",
       "1     122500.0  41336.343750\n",
       "2      87500.0  42714.820312\n",
       "3      68500.0  55700.992188\n",
       "4      39000.0  41607.367188\n",
       "...        ...           ...\n",
       "1933   17500.0  16901.765625\n",
       "1934   15000.0  17337.882812\n",
       "1935   15000.0  16654.609375\n",
       "1936   15000.0  16654.609375\n",
       "1937   86000.0  38499.460938\n",
       "\n",
       "[1938 rows x 2 columns]"
      ]
     },
     "execution_count": 58,
     "metadata": {},
     "output_type": "execute_result"
    }
   ],
   "source": [
    "# Add back the predicted Data to the original InsuranceData_df to compare and manipulate\n",
    "full_prediction = predict_full(inputs, targets, model)\n",
    "prediction_data = torch.reshape(full_prediction, (-1,))\n",
    "InsuranceData_df['Prediction'] = prediction_data\n",
    "InsuranceData_df\n"
   ]
  },
  {
   "cell_type": "code",
   "execution_count": 53,
   "metadata": {},
   "outputs": [
    {
     "data": {
      "text/plain": [
       "(1938,)"
      ]
     },
     "execution_count": 53,
     "metadata": {},
     "output_type": "execute_result"
    }
   ],
   "source": [
    "target_data = targets.numpy()\n",
    "prediction_df = pd.DataFrame({\n",
    "    \"Actual\": target_data,\n",
    "    \"Prediction\" : prediction_data\n",
    "})\n",
    "prediction_df"
   ]
  }
 ],
 "metadata": {
  "kernelspec": {
   "display_name": "Python 3.7.11",
   "language": "python",
   "name": "python3"
  },
  "language_info": {
   "codemirror_mode": {
    "name": "ipython",
    "version": 3
   },
   "file_extension": ".py",
   "mimetype": "text/x-python",
   "name": "python",
   "nbconvert_exporter": "python",
   "pygments_lexer": "ipython3",
   "version": "3.7.11"
  },
  "orig_nbformat": 4,
  "vscode": {
   "interpreter": {
    "hash": "57effba1ce4e8efc69845a8149407282015bfb8a155c23345d163acc1bb54217"
   }
  }
 },
 "nbformat": 4,
 "nbformat_minor": 2
}
